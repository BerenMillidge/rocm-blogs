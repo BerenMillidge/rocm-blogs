{
 "cells": [
  {
   "cell_type": "markdown",
   "id": "cb4a6d27-5c7f-422a-8b42-95760aebce89",
   "metadata": {},
   "source": [
    "## Autoencoder model using mnist"
   ]
  },
  {
   "cell_type": "code",
   "execution_count": null,
   "id": "9b7a2fc2-0d30-4187-9dfc-6373d882bbb0",
   "metadata": {},
   "outputs": [],
   "source": [
    "import os\n",
    "import tensorflow as tf\n",
    "import tensorflow_datasets as tfds\n",
    "from tensorflow.keras.layers import Input, Conv2D, MaxPooling2D, UpSampling2D\n",
    "from tensorflow.keras.models import Model\n",
    "from tensorflow.keras.callbacks import TensorBoard\n",
    "from datetime import datetime\n",
    "import shutil"
   ]
  },
  {
   "cell_type": "code",
   "execution_count": null,
   "id": "5c97979f-149e-47e4-aeb1-3dcff2ae80c7",
   "metadata": {},
   "outputs": [],
   "source": [
    "#Load the dataset\n",
    "def preprocess_image(features):\n",
    "\n",
    "    image = tf.cast(features['image'], tf.float32) / 255.0\n",
    "    image = tf.image.resize(image, [28,28])\n",
    "    image = tf.expand_dims(image[:, :, 0], -1)\n",
    "\n",
    "    return image, image # Returns input and output the same for the autoencoder\n",
    "\n",
    "ds_train = tfds.load('mnist', split='train', as_supervised=False)\n",
    "ds_train = ds_train.map(preprocess_image, num_parallel_calls = tf.data.AUTOTUNE).batch(64)\n",
    "\n",
    "ds_test = tfds.load('mnist', split='test', as_supervised=False)\n",
    "ds_test = ds_test.map(preprocess_image, num_parallel_calls = tf.data.AUTOTUNE).batch(64)"
   ]
  },
  {
   "cell_type": "code",
   "execution_count": null,
   "id": "f76d133b-75df-4521-b6a3-8b7c7597d9a2",
   "metadata": {
    "scrolled": true
   },
   "outputs": [],
   "source": [
    "# Define architecture\n",
    "input_img = Input(shape = (28,28,1))\n",
    "\n",
    "# Encoder\n",
    "x = Conv2D(512,(3,3), activation = 'relu', padding = 'same')(input_img)\n",
    "x = MaxPooling2D((2,2), padding = 'same')(x)\n",
    "x = Conv2D(128, (3,3), activation = 'relu', padding = 'same')(x)\n",
    "encoded = MaxPooling2D((2,2), padding='same')(x)"
   ]
  },
  {
   "cell_type": "code",
   "execution_count": null,
   "id": "1cc10ea5-f038-489d-b0ae-6530875a7fa7",
   "metadata": {
    "scrolled": true
   },
   "outputs": [],
   "source": [
    "# Decoder\n",
    "x = Conv2D(128,(3,3), activation = 'relu', padding = 'same')(encoded)\n",
    "x = UpSampling2D((2,2))(x)\n",
    "x = Conv2D(512,(3,3), activation = 'relu', padding = 'same')(x)\n",
    "x = UpSampling2D((2,2))(x)\n",
    "decoded = Conv2D(1,(3,3), activation='sigmoid', padding='same')(x)"
   ]
  },
  {
   "cell_type": "code",
   "execution_count": null,
   "id": "a1e312a0-7c18-46ea-9ba7-d45f592185ac",
   "metadata": {
    "scrolled": true
   },
   "outputs": [],
   "source": [
    "#The model\n",
    "autoencoder = Model(input_img, decoded)"
   ]
  },
  {
   "cell_type": "code",
   "execution_count": null,
   "id": "52da05e9-309b-484e-b537-0fff1f963314",
   "metadata": {
    "scrolled": true
   },
   "outputs": [],
   "source": [
    "# Training\n",
    "autoencoder.compile(optimizer = 'adam', loss = 'binary_crossentropy')\n",
    " \n",
    "#Setup for profiling\n",
    "log_dir = './logs/' + datetime.now().strftime(\"%Y%m%d-%H%M%S\")\n",
    "tensorboard_callback = TensorBoard(log_dir = log_dir, histogram_freq=1, profile_batch='500,520')\n",
    "\n",
    "#Train the model\n",
    "autoencoder.fit(ds_train,\n",
    "                epochs = 10,\n",
    "                validation_data = ds_test,\n",
    "                callbacks = [tensorboard_callback])\n",
    "\n",
    "#Copy file \"events.out.tfevents.1583461681.localhost.profile-empty\" to each recorded log for display data\n",
    "source_path = \"./events.out.tfevents.1583461681.localhost.profile-empty\"\n",
    "destination_path = log_dir\n",
    "shutil.copy(source_path, destination_path)"
   ]
  },
  {
   "cell_type": "code",
   "execution_count": null,
   "id": "f501da79-23a7-46b0-ab54-8507d6211fd8",
   "metadata": {},
   "outputs": [],
   "source": [
    "#Show the images\n",
    "\n",
    "import matplotlib.pyplot as plt\n",
    "import numpy as np\n",
    "import tensorflow_datasets as tfds\n",
    "\n",
    "# Extract a single test image\n",
    "for test_images, _ in ds_test.take(30):\n",
    "    test_image = test_images[0:1]\n",
    "\n",
    "reconstructed_image = autoencoder.predict(test_image)\n",
    "\n",
    "#Plot original image\n",
    "\n",
    "fig, axes = plt.subplots(1,2)\n",
    "axes[0].imshow(test_image[0,:,:,0], cmap='gray')\n",
    "axes[0].set_title('Original Image')\n",
    "axes[0].axis('off')\n",
    "\n",
    "axes[1].imshow(reconstructed_image[0,:,:,0], cmap='gray')\n",
    "axes[1].set_title('Reconstructed Image')\n",
    "axes[1].axis('off')\n",
    "\n",
    "plt.show()"
   ]
  },
  {
   "cell_type": "markdown",
   "id": "b4408a56-8a1b-4e6c-89f1-6ded6dc78484",
   "metadata": {},
   "source": [
    "## Load TensorBoard"
   ]
  },
  {
   "cell_type": "code",
   "execution_count": null,
   "id": "2ab974b6-6a8c-4a46-9d5b-253633e22110",
   "metadata": {},
   "outputs": [],
   "source": [
    "%load_ext tensorboard"
   ]
  },
  {
   "cell_type": "code",
   "execution_count": null,
   "id": "5b03711e-8347-40bb-9ff9-cacdc27e8b12",
   "metadata": {},
   "outputs": [],
   "source": [
    "%tensorboard --logdir='./logs' --bind_all --port 6006 #will take a few seconds to show"
   ]
  }
 ],
 "metadata": {
  "kernelspec": {
   "display_name": "Python 3 (ipykernel)",
   "language": "python",
   "name": "python3"
  },
  "language_info": {
   "codemirror_mode": {
    "name": "ipython",
    "version": 3
   },
   "file_extension": ".py",
   "mimetype": "text/x-python",
   "name": "python",
   "nbconvert_exporter": "python",
   "pygments_lexer": "ipython3",
   "version": "3.9.18"
  }
 },
 "nbformat": 4,
 "nbformat_minor": 5
}
