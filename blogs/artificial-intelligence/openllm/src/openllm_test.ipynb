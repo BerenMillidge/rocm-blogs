{
 "cells": [
  {
   "cell_type": "markdown",
   "id": "17e2dce3-a125-4cd7-ae16-1c3715379f38",
   "metadata": {},
   "source": [
    "## Interacting with the server using openllm python endpoint"
   ]
  },
  {
   "cell_type": "markdown",
   "id": "3185a3a0",
   "metadata": {},
   "source": [
    "### Test facebook/opt-1.3b model"
   ]
  },
  {
   "cell_type": "code",
   "execution_count": null,
   "id": "26a9b7a3",
   "metadata": {},
   "outputs": [],
   "source": [
    "import openllm\n",
    "\n",
    "#Sync API\n",
    "client = openllm.HTTPClient('http://localhost:3000', timeout=120)\n",
    "\n",
    "#generate streaming\n",
    "for it in client.generate_stream('What is a Large Language Model?', max_new_tokens=120,):\n",
    "  print(it.text, end=\"\")"
   ]
  },
  {
   "cell_type": "markdown",
   "id": "d53b9ae4",
   "metadata": {},
   "source": [
    "### Test databricks/dolly-v2-3b model"
   ]
  },
  {
   "cell_type": "code",
   "execution_count": 14,
   "id": "5e8ded12-08d5-4abb-ad96-50710f36dbf7",
   "metadata": {},
   "outputs": [
    {
     "name": "stdout",
     "output_type": "stream",
     "text": [
      "\n",
      "\n",
      "AMD is a semiconductor company based in Sunnyvale, California. AMD designs and manufactures microprocessors, GPUs (graphics processing units), and memory controllers. AMD's largest product line is its microprocessors for personal computers and video game consoles. AMD's Radeon graphics processing unit (GPU) is used in many personal computers, video game consoles, and televisions. AMD's Opteron and Athlon microprocessors are used in servers, workstations, and supercomputers. AMD's K10 microprocessor is used in some mobile devices such as smartphones and"
     ]
    }
   ],
   "source": [
    "import openllm\n",
    "\n",
    "#Sync API\n",
    "client = openllm.HTTPClient('http://localhost:3000', timeout=120)\n",
    "\n",
    "#generate streaming\n",
    "for it in client.generate_stream('What industry is Advanced Micro Devices part of?', max_new_tokens=120,):\n",
    "  print(it.text, end=\"\")"
   ]
  },
  {
   "cell_type": "markdown",
   "id": "4115fdd9",
   "metadata": {},
   "source": [
    "### Test Mistral-7B-Instruct-v0.1 model"
   ]
  },
  {
   "cell_type": "code",
   "execution_count": null,
   "id": "7fb15877",
   "metadata": {},
   "outputs": [],
   "source": [
    "import openllm\n",
    "\n",
    "#Sync API\n",
    "client = openllm.HTTPClient('http://localhost:3000', timeout=120)\n",
    "\n",
    "#generate streaming\n",
    "for it in client.generate_stream('Create the python code for an autoencoder neural network', max_new_tokens=1000,):\n",
    "  print(it.text, end=\"\")"
   ]
  }
 ],
 "metadata": {
  "kernelspec": {
   "display_name": "Python 3 (ipykernel)",
   "language": "python",
   "name": "python3"
  },
  "language_info": {
   "codemirror_mode": {
    "name": "ipython",
    "version": 3
   },
   "file_extension": ".py",
   "mimetype": "text/x-python",
   "name": "python",
   "nbconvert_exporter": "python",
   "pygments_lexer": "ipython3",
   "version": "3.11.7"
  }
 },
 "nbformat": 4,
 "nbformat_minor": 5
}
