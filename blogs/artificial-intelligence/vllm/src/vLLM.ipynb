{
 "cells": [
  {
   "cell_type": "code",
   "execution_count": null,
   "id": "10aed092-724a-42a4-b3c3-7cd5ddb645ba",
   "metadata": {},
   "outputs": [],
   "source": [
    "from vllm import LLM, SamplingParams"
   ]
  },
  {
   "cell_type": "code",
   "execution_count": null,
   "id": "32296083-dc42-4863-bc72-31af4e0a09c2",
   "metadata": {},
   "outputs": [],
   "source": [
    "prompts = [\"Write a haiku about machine learning\"]\n",
    "sampling_params = SamplingParams(max_tokens=128,\n",
    "    skip_special_tokens=True,\n",
    "    temperature=0.8,\n",
    "    top_k=20,\n",
    "    top_p=0.95,)"
   ]
  },
  {
   "cell_type": "code",
   "execution_count": null,
   "id": "47db8eb6-0f8a-41e7-8212-bee737cad75d",
   "metadata": {},
   "outputs": [],
   "source": [
    "llm = LLM(model=\"Qwen/Qwen2-7B-Instruct\")"
   ]
  },
  {
   "cell_type": "code",
   "execution_count": null,
   "id": "a8c36252-07d2-4074-a674-fca159701cfa",
   "metadata": {},
   "outputs": [],
   "source": [
    "outputs = llm.generate(prompts, sampling_params)\n",
    "\n",
    "prompt = prompts[0]\n",
    "generated_text = outputs[0].outputs[0].text\n",
    "print(prompt + ': ' + generated_text)"
   ]
  }
 ],
 "metadata": {
  "kernelspec": {
   "display_name": "Python 3 (ipykernel)",
   "language": "python",
   "name": "python3"
  },
  "language_info": {
   "codemirror_mode": {
    "name": "ipython",
    "version": 3
   },
   "file_extension": ".py",
   "mimetype": "text/x-python",
   "name": "python",
   "nbconvert_exporter": "python",
   "pygments_lexer": "ipython3",
   "version": "3.10.13"
  }
 },
 "nbformat": 4,
 "nbformat_minor": 5
}
