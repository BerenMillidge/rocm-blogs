{
 "cells": [
  {
   "cell_type": "code",
   "execution_count": null,
   "id": "d7812fe0",
   "metadata": {},
   "outputs": [],
   "source": [
    "import time\n",
    "import os\n",
    "import dask\n",
    "import pandas as pd\n",
    "import xgboost as xgb\n",
    "from distributed import Client\n",
    "from dask import dataframe as dd\n",
    "from dask_hip import LocalHIPCluster\n",
    "from xgboost.dask import DaskDMatrix"
   ]
  },
  {
   "cell_type": "markdown",
   "id": "79e4ef8a",
   "metadata": {},
   "source": [
    "## Distributed environment"
   ]
  },
  {
   "cell_type": "code",
   "execution_count": null,
   "id": "b713261b",
   "metadata": {},
   "outputs": [],
   "source": [
    "num_gpus = 4\n",
    "devices = ','.join([str(i) for i in range(num_gpus)])\n",
    "cluster = LocalHIPCluster(HIP_VISIBLE_DEVICES=devices)\n",
    "client = Client(cluster)"
   ]
  },
  {
   "cell_type": "markdown",
   "id": "91191d82",
   "metadata": {},
   "source": [
    "## Load data"
   ]
  },
  {
   "cell_type": "code",
   "execution_count": null,
   "id": "d12f62b9",
   "metadata": {},
   "outputs": [],
   "source": [
    "colnames = ['label'] + ['feature-%02d' % i for i in range(1, 29)]\n",
    "fn = 'HIGGS.csv'\n",
    "df = dd.read_csv(fn, header=None, names=colnames, dtype='float32')\n",
    "X = df[df.columns.difference(['label'])]\n",
    "y = df['label']"
   ]
  },
  {
   "cell_type": "markdown",
   "id": "e9483312",
   "metadata": {},
   "source": [
    "## Training"
   ]
  },
  {
   "cell_type": "code",
   "execution_count": null,
   "id": "1a689636",
   "metadata": {},
   "outputs": [],
   "source": [
    "dtrain = xgb.dask.DaskDMatrix(client, X, y)\n",
    "\n",
    "start_time = time.time()\n",
    "param =  {\n",
    "               'max_depth': 8,\n",
    "               'objective': 'reg:squarederror',\n",
    "               'tree_method': 'gpu_hist',\n",
    "               'device': 'gpu'\n",
    "          }\n",
    "print('Training')\n",
    "bst = xgb.dask.train(client, param, dtrain, num_boost_round=1000)\n",
    "print(\"[INFO]: ------ Training is completed in {} seconds ------\".format((time.time() - start_time)))"
   ]
  },
  {
   "cell_type": "markdown",
   "id": "c30f4ecd",
   "metadata": {},
   "source": [
    "## Inference"
   ]
  },
  {
   "cell_type": "code",
   "execution_count": null,
   "id": "e3e49a44",
   "metadata": {},
   "outputs": [],
   "source": [
    "booster = bst['booster']\n",
    "# Set to use GPU for inference.\n",
    "booster.set_param({'device': 'gpu'})\n",
    "# dtrain is the DaskDMatrix defined above.\n",
    "prediction = xgb.dask.predict(client, booster, dtrain)"
   ]
  }
 ],
 "metadata": {
  "kernelspec": {
   "display_name": "Python 3 (ipykernel)",
   "language": "python",
   "name": "python3"
  },
  "language_info": {
   "codemirror_mode": {
    "name": "ipython",
    "version": 3
   },
   "file_extension": ".py",
   "mimetype": "text/x-python",
   "name": "python",
   "nbconvert_exporter": "python",
   "pygments_lexer": "ipython3",
   "version": "3.11.4"
  }
 },
 "nbformat": 4,
 "nbformat_minor": 5
}
