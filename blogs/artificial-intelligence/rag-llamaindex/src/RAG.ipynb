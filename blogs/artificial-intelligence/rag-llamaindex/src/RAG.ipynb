{
 "cells": [
  {
   "cell_type": "code",
   "execution_count": null,
   "id": "bf4c5531-4690-4c0e-a75d-642a40bbe3f8",
   "metadata": {},
   "outputs": [],
   "source": [
    "!pip install llama-index llama-index-llms-huggingface llama-index-embeddings-huggingface llama-index-readers-web transformers accelerate -q"
   ]
  },
  {
   "cell_type": "markdown",
   "id": "eca6b377-21c3-4951-b9ac-a94d86437469",
   "metadata": {},
   "source": [
    "## Getting Started"
   ]
  },
  {
   "cell_type": "code",
   "execution_count": null,
   "id": "fb65e575-635d-4e74-af90-0a1a4fd71323",
   "metadata": {},
   "outputs": [],
   "source": [
    "from llama_index.core import ServiceContext\n",
    "from llama_index.core import VectorStoreIndex\n",
    "from llama_index.llms.huggingface import HuggingFaceLLM\n",
    "from llama_index.core.prompts.base import PromptTemplate\n",
    "from llama_index.embeddings.huggingface import HuggingFaceEmbedding\n",
    "from llama_index.readers.web import BeautifulSoupWebReader"
   ]
  },
  {
   "cell_type": "code",
   "execution_count": null,
   "id": "a14a8978-9196-49df-a597-54f33066aa7a",
   "metadata": {},
   "outputs": [],
   "source": [
    "def messages_to_prompt(messages):\n",
    "  prompt = \"\"\n",
    "  for message in messages:\n",
    "    if message.role == 'system':\n",
    "      prompt += f\"<|system|>\\n{message.content}</s>\\n\"\n",
    "    elif message.role == 'user':\n",
    "      prompt += f\"<|user|>\\n{message.content}</s>\\n\"\n",
    "    elif message.role == 'assistant':\n",
    "      prompt += f\"<|assistant|>\\n{message.content}</s>\\n\""
   ]
  },
  {
   "cell_type": "code",
   "execution_count": null,
   "id": "4bcba212-a62c-4798-a1ec-79eae49c2a93",
   "metadata": {},
   "outputs": [],
   "source": [
    "llm = HuggingFaceLLM(\n",
    "    model_name=\"/home/aac/zephyr-7b-alpha\",\n",
    "    tokenizer_name=\"/home/aac/zephyr-7b-alpha\",\n",
    "    query_wrapper_prompt=PromptTemplate(\"<|system|>\\n</s>\\n<|user|>\\n{query_str}</s>\\n<|assistant|>\\n\"),\n",
    "    context_window=3900,\n",
    "    max_new_tokens=256,\n",
    "    model_kwargs={\"use_safetensors\": False},\n",
    "    # tokenizer_kwargs={},\n",
    "    generate_kwargs={\"do_sample\":True, \"temperature\": 0.7, \"top_k\": 50, \"top_p\": 0.95},\n",
    "    messages_to_prompt=messages_to_prompt,\n",
    "    device_map=\"cuda\",\n",
    ")"
   ]
  },
  {
   "cell_type": "markdown",
   "id": "a7505e14-9263-4227-8688-cc0df39a0e20",
   "metadata": {},
   "source": [
    "## Raw Prompting"
   ]
  },
  {
   "cell_type": "code",
   "execution_count": null,
   "id": "529342f3-3fd0-4aca-97fa-cbc210a885b3",
   "metadata": {},
   "outputs": [],
   "source": [
    "question = \"How does Paul Graham recommend to work hard? Can you list it as steps\"\n",
    "response = llm.complete(question)\n",
    "print(response)"
   ]
  },
  {
   "cell_type": "markdown",
   "id": "b6611d2f",
   "metadata": {},
   "source": [
    "### Prompt Engineering"
   ]
  },
  {
   "cell_type": "code",
   "execution_count": null,
   "id": "6366d1ed",
   "metadata": {},
   "outputs": [],
   "source": [
    "url = \"https://paulgraham.com/hwh.html\"\n",
    "\n",
    "documents = BeautifulSoupWebReader().load_data([url])"
   ]
  },
  {
   "cell_type": "code",
   "execution_count": null,
   "id": "f9fd346e-6681-4a8d-8a03-73b3a6370c72",
   "metadata": {},
   "outputs": [],
   "source": [
    "context = documents[0].text\n",
    "prompt = f\"\"\"Answer the question based on the context below. If the\n",
    "question cannot be answered using the information provided answer\n",
    "with \"I don't know\".\n",
    "\n",
    "Context: {context}\n",
    "\n",
    "Question: {question}\n",
    "\n",
    "Answer: \"\"\"\n",
    "response = llm.complete(prompt)\n",
    "print(response)"
   ]
  },
  {
   "cell_type": "code",
   "execution_count": null,
   "id": "4b872679-b7d1-4907-a9a9-1a3338e98bcf",
   "metadata": {},
   "outputs": [],
   "source": [
    "response = llm.complete(prompt)\n",
    "print(response)"
   ]
  },
  {
   "cell_type": "markdown",
   "id": "3add5350",
   "metadata": {},
   "source": [
    "### Retrieval Augmented Generation"
   ]
  },
  {
   "cell_type": "code",
   "execution_count": null,
   "id": "a266b511-219f-45a1-83ff-a57835f47717",
   "metadata": {},
   "outputs": [],
   "source": [
    "service_context = ServiceContext.from_defaults(llm=llm, embed_model=\"local:BAAI/bge-base-en-v1.5\", chunk_size=256, chunk_overlap=32)"
   ]
  },
  {
   "cell_type": "code",
   "execution_count": null,
   "id": "176d42ad-8215-45cb-9e69-1e4cacd91ceb",
   "metadata": {},
   "outputs": [],
   "source": [
    "# build basic RAG system\n",
    "index = VectorStoreIndex.from_documents(documents, service_context=service_context)\n",
    "query_engine = index.as_query_engine(similarity_top_k=8)"
   ]
  },
  {
   "cell_type": "code",
   "execution_count": null,
   "id": "601aa3d6-b68b-4e95-9479-06b1df35a4af",
   "metadata": {},
   "outputs": [],
   "source": [
    "response = query_engine.query(question)\n",
    "print(response)"
   ]
  }
 ],
 "metadata": {
  "kernelspec": {
   "display_name": "Python 3 (ipykernel)",
   "language": "python",
   "name": "python3"
  },
  "language_info": {
   "codemirror_mode": {
    "name": "ipython",
    "version": 3
   },
   "file_extension": ".py",
   "mimetype": "text/x-python",
   "name": "python",
   "nbconvert_exporter": "python",
   "pygments_lexer": "ipython3",
   "version": "3.10.13"
  }
 },
 "nbformat": 4,
 "nbformat_minor": 5
}
