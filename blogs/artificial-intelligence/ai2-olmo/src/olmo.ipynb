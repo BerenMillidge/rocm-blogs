{
 "cells": [
  {
   "cell_type": "code",
   "execution_count": 1,
   "id": "734b8d6a-3b05-45ce-9168-a8d841ac225a",
   "metadata": {},
   "outputs": [
    {
     "data": {
      "text/plain": [
       "8"
      ]
     },
     "execution_count": 1,
     "metadata": {},
     "output_type": "execute_result"
    }
   ],
   "source": [
    "import torch\n",
    "torch.cuda.device_count()"
   ]
  },
  {
   "cell_type": "code",
   "execution_count": 2,
   "id": "af27ea6b-8f78-4bef-928f-ab3edf8e32ab",
   "metadata": {},
   "outputs": [
    {
     "name": "stderr",
     "output_type": "stream",
     "text": [
      "/opt/conda/envs/py_3.9/lib/python3.9/site-packages/tqdm/auto.py:21: TqdmWarning: IProgress not found. Please update jupyter and ipywidgets. See https://ipywidgets.readthedocs.io/en/stable/user_install.html\n",
      "  from .autonotebook import tqdm as notebook_tqdm\n"
     ]
    }
   ],
   "source": [
    "import hf_olmo\n",
    "from transformers import pipeline\n",
    "# Default device is CPU; device>=0 is setting the device to a GPU.\n",
    "olmo_pipe = pipeline(\"text-generation\", model=\"allenai/OLMo-7B\", device=0)"
   ]
  },
  {
   "cell_type": "code",
   "execution_count": 3,
   "id": "c33dd814-1575-4571-9a08-0881e8e04c34",
   "metadata": {},
   "outputs": [
    {
     "name": "stdout",
     "output_type": "stream",
     "text": [
      "Language modeling is \n",
      "a branch of natural language processing that aims to \n",
      "understand the meaning of words and sentences. \n",
      "It is a subfield of computational linguistics. \n",
      "The goal of natural language modeling is to \n",
      "build a model of language that can be used \n",
      "to predict the next word in a sentence. \n",
      "This can be used to improve the accuracy \n",
      "of machine translation, to improve the \n",
      "performance of speech recognition systems, \n",
      "and to improve the performance of \n"
     ]
    }
   ],
   "source": [
    "output = olmo_pipe(\"Language modeling is \", max_new_tokens=100)\n",
    "print(output[0]['generated_text'])"
   ]
  },
  {
   "cell_type": "code",
   "execution_count": 4,
   "id": "c921ffa8-f98c-4701-b763-c92eb81972ce",
   "metadata": {
    "scrolled": true
   },
   "outputs": [
    {
     "name": "stdout",
     "output_type": "stream",
     "text": [
      "Deep learning is the subject that is being studied by the researchers. It is a branch of machine learning that is used to create artificial neural networks. It is a subset of deep learning that is used to create artificial neural networks. It is a subset of deep learning that is used to create artificial neural networks. It is a subset of deep learning that is used to create artificial neural networks. It is a subset of deep learning that is used to create artificial neural networks. It is a subset of deep learning that is used to create artificial\n",
      "\n",
      "************************\n",
      "\n",
      "There are a lot of attractions in New York City, but the most popular ones are the Statue of Liberty, the Empire State Building, and the Brooklyn Bridge.\n",
      "The Statue of Liberty is a symbol of freedom and democracy. It was a gift from France to the United States in 1886. The statue is made of copper and stands on Liberty Island in New York Harbor.\n",
      "The Empire State Building is the tallest building in the world. It was built in 1931 and stands 1,454 feet tall. The building has 102 floors and\n",
      "\n",
      "************************\n",
      "\n",
      "Why the sky is blue?\n",
      "Why the grass is green?\n",
      "Why the sun shines?\n",
      "Why the moon shines?\n",
      "Why the stars shine?\n",
      "Why the birds sing?\n",
      "Why the flowers bloom?\n",
      "Why the trees grow?\n",
      "Why the rivers flow?\n",
      "Why the mountains stand?\n",
      "Why the seas are blue?\n",
      "Why the oceans are blue?\n",
      "Why the stars are blue?\n",
      "Why the stars are white?\n",
      "Why the stars are red?\n",
      "Why the stars are yellow?\n"
     ]
    }
   ],
   "source": [
    "input = [\"Deep learning is the subject that\", \"There are a lot of attractions in New York\", \"Why the sky is blue\"]\n",
    "output = olmo_pipe(input, max_new_tokens=100)\n",
    "print(*[i[0]['generated_text'] for i in output], sep='\\n\\n************************\\n\\n')"
   ]
  },
  {
   "cell_type": "code",
   "execution_count": 10,
   "id": "bf868b3d-cb0f-46aa-b875-0c5f2ae31331",
   "metadata": {},
   "outputs": [
    {
     "name": "stdout",
     "output_type": "stream",
     "text": [
      "Deep learning is the subject that deals with Artificial intelligence and machine learning. In the context of artificial intelligence, Deep learning is an emerging technology that is based on artificial neural networks. It is used in almost all fields of AI such as robotics, language translation, computer vision, and others. This technology is used in computer vision for automatic image processing and recognition tasks. It is also used for image classification, speech recognition, and text translation.\n",
      "With the increasing demand for artificial intelligence, the use of deep learning has also been\n",
      "\n",
      "************************\n",
      "\n",
      "There are a lot of attractions in New York, such as Central Park and the Brooklyn Bridge. Visiting all of these places would be quite overwhelming, so we recommend starting with the ones that you find the most interesting.\n",
      "The best attractions for teens are Times Square, the Statue of Liberty, The Empire State Building, Central Park, and the Brooklyn Bridge.\n",
      "New York City is a very busy city, so it can be challenging for a teenager to get from one place to another. This is why we recommend using public transportation, which\n",
      "\n",
      "************************\n",
      "\n",
      "Why the sky is blue\" - it is a question that has been puzzling philosophers and scientists since time began.\n",
      "But the world's top physicist has unveiled the secret to the colour and says he \"loves\" being asked about it as it has fascinated him throughout his career.\n",
      "Prof Stephen Hawking, 74, of Cambridge University, said blue appears in the sky because it takes the longest wavelength of sunlight, blue, to reach the earth after it passes through the atmosphere.\n",
      "He added that sunlight in the sky\n"
     ]
    }
   ],
   "source": [
    "output = olmo_pipe(input, max_new_tokens=100, do_sample=True, top_k=40, top_p=0.95)\n",
    "print(*[i[0]['generated_text'] for i in output], sep='\\n\\n************************\\n\\n')"
   ]
  },
  {
   "cell_type": "code",
   "execution_count": null,
   "id": "ab53970c-9fa7-4235-b57f-8b5ec4f07b6e",
   "metadata": {},
   "outputs": [],
   "source": []
  }
 ],
 "metadata": {
  "kernelspec": {
   "display_name": "Python 3 (ipykernel)",
   "language": "python",
   "name": "python3"
  },
  "language_info": {
   "codemirror_mode": {
    "name": "ipython",
    "version": 3
   },
   "file_extension": ".py",
   "mimetype": "text/x-python",
   "name": "python",
   "nbconvert_exporter": "python",
   "pygments_lexer": "ipython3",
   "version": "3.9.18"
  }
 },
 "nbformat": 4,
 "nbformat_minor": 5
}
