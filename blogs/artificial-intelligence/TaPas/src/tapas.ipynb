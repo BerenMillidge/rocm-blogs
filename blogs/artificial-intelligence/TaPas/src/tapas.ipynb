{
 "cells": [
  {
   "cell_type": "code",
   "execution_count": 1,
   "id": "22071c64-f073-409b-96d1-5d4d63155457",
   "metadata": {},
   "outputs": [
    {
     "name": "stdout",
     "output_type": "stream",
     "text": [
      "\u001b[33mWARNING: Running pip as the 'root' user can result in broken permissions and conflicting behaviour with the system package manager. It is recommended to use a virtual environment instead: https://pip.pypa.io/warnings/venv\u001b[0m\u001b[33m\n",
      "\u001b[0m"
     ]
    }
   ],
   "source": [
    "! pip install -q transformers pandas datasets tabulate"
   ]
  },
  {
   "cell_type": "code",
   "execution_count": 2,
   "id": "eb787545-48ae-47fc-854b-fb5db412e087",
   "metadata": {},
   "outputs": [
    {
     "name": "stdout",
     "output_type": "stream",
     "text": [
      "Package: rocm-libs\n",
      "Version: 5.7.0.50700-63~22.04\n",
      "Priority: optional\n",
      "Section: devel\n",
      "Maintainer: ROCm Libs Support <rocm-libs.support@amd.com>\n",
      "Installed-Size: 13.3 kB\n",
      "Depends: hipblas (= 1.1.0.50700-63~22.04), hipblaslt (= 0.3.0.50700-63~22.04), hipfft (= 1.0.12.50700-63~22.04), hipsolver (= 1.8.1.50700-63~22.04), hipsparse (= 2.3.8.50700-63~22.04), miopen-hip (= 2.20.0.50700-63~22.04), rccl (= 2.17.1.50700-63~22.04), rocalution (= 2.1.11.50700-63~22.04), rocblas (= 3.1.0.50700-63~22.04), rocfft (= 1.0.23.50700-63~22.04), rocrand (= 2.10.17.50700-63~22.04), rocsolver (= 3.23.0.50700-63~22.04), rocsparse (= 2.5.4.50700-63~22.04), rocm-core (= 5.7.0.50700-63~22.04), hipblas-dev (= 1.1.0.50700-63~22.04), hipblaslt-dev (= 0.3.0.50700-63~22.04), hipcub-dev (= 2.13.1.50700-63~22.04), hipfft-dev (= 1.0.12.50700-63~22.04), hipsolver-dev (= 1.8.1.50700-63~22.04), hipsparse-dev (= 2.3.8.50700-63~22.04), miopen-hip-dev (= 2.20.0.50700-63~22.04), rccl-dev (= 2.17.1.50700-63~22.04), rocalution-dev (= 2.1.11.50700-63~22.04), rocblas-dev (= 3.1.0.50700-63~22.04), rocfft-dev (= 1.0.23.50700-63~22.04), rocprim-dev (= 2.13.1.50700-63~22.04), rocrand-dev (= 2.10.17.50700-63~22.04), rocsolver-dev (= 3.23.0.50700-63~22.04), rocsparse-dev (= 2.5.4.50700-63~22.04), rocthrust-dev (= 2.18.0.50700-63~22.04), rocwmma-dev (= 1.2.0.50700-63~22.04)\n",
      "Homepage: https://github.com/RadeonOpenCompute/ROCm\n",
      "Download-Size: 1012 B\n",
      "APT-Manual-Installed: yes\n",
      "APT-Sources: http://repo.radeon.com/rocm/apt/5.7 jammy/main amd64 Packages\n",
      "Description: Radeon Open Compute (ROCm) Runtime software stack\n",
      "\n"
     ]
    }
   ],
   "source": [
    "!apt show rocm-libs -a"
   ]
  },
  {
   "cell_type": "code",
   "execution_count": 3,
   "id": "2c7ceba8-6bbe-49e9-8252-e8ae7964d319",
   "metadata": {},
   "outputs": [],
   "source": [
    "# import os\n",
    "# os.environ['HSA_OVERRIDE_GFX_VERSION']='10.3.0' # depending on your AMD GPU, you may need to run this line"
   ]
  },
  {
   "cell_type": "code",
   "execution_count": 4,
   "id": "b6a0a6b4-ab3d-4f85-bce0-04f73feaf5f7",
   "metadata": {},
   "outputs": [
    {
     "name": "stderr",
     "output_type": "stream",
     "text": [
      "/opt/conda/envs/py_3.10/lib/python3.10/site-packages/tqdm/auto.py:21: TqdmWarning: IProgress not found. Please update jupyter and ipywidgets. See https://ipywidgets.readthedocs.io/en/stable/user_install.html\n",
      "  from .autonotebook import tqdm as notebook_tqdm\n"
     ]
    }
   ],
   "source": [
    "from transformers import pipeline, AutoModelForTableQuestionAnswering\n",
    "import pandas as pd"
   ]
  },
  {
   "cell_type": "code",
   "execution_count": 5,
   "id": "676e7bcc-d91f-441e-ae44-4e9f97ce5e83",
   "metadata": {},
   "outputs": [],
   "source": [
    "from datasets import load_dataset\n",
    "data = load_dataset(\"ashraq/ott-qa-20k\", split='train')"
   ]
  },
  {
   "cell_type": "code",
   "execution_count": 6,
   "id": "341c4235-850d-4fe8-8cc8-3533f465daf2",
   "metadata": {},
   "outputs": [],
   "source": [
    "for doc in data:\n",
    "    if doc['title'] == 'World economy':\n",
    "        table = pd.DataFrame(doc[\"data\"], columns=doc['header'])\n",
    "        break "
   ]
  },
  {
   "cell_type": "code",
   "execution_count": 7,
   "id": "b4801703-82e2-42c4-a02a-be75a0347026",
   "metadata": {},
   "outputs": [
    {
     "name": "stdout",
     "output_type": "stream",
     "text": [
      "|    |   Rank | Country              | Value ( USD $ )   |   Peak year |\n",
      "|---:|-------:|:---------------------|:------------------|------------:|\n",
      "|  0 |      1 | Qatar                | 146,982           |        2012 |\n",
      "|  1 |      2 | Macau                | 133,021           |        2013 |\n",
      "|  2 |      3 | Luxembourg           | 108,951           |        2019 |\n",
      "|  3 |      4 | Singapore            | 103,181           |        2019 |\n",
      "|  4 |      5 | United Arab Emirates | 92,037            |        2004 |\n",
      "|  5 |      6 | Brunei               | 83,785            |        2012 |\n",
      "|  6 |      7 | Ireland              | 83,399            |        2019 |\n",
      "|  7 |      8 | Norway               | 76,684            |        2019 |\n",
      "|  8 |      9 | San Marino           | 74,664            |        2008 |\n",
      "|  9 |     10 | Kuwait               | 71,036            |        2013 |\n",
      "| 10 |     11 | Switzerland          | 66,196            |        2019 |\n",
      "| 11 |     12 | United States        | 65,112            |        2019 |\n",
      "| 12 |     13 | Hong Kong            | 64,928            |        2019 |\n",
      "| 13 |     14 | Netherlands          | 58,341            |        2019 |\n",
      "| 14 |     15 | Iceland              | 56,066            |        2019 |\n",
      "| 15 |     16 | Saudi Arabia         | 55,730            |        2018 |\n",
      "| 16 |     17 | Taiwan               | 55,078            |        2019 |\n",
      "| 17 |     18 | Sweden               | 54,628            |        2019 |\n",
      "| 18 |     19 | Denmark              | 53,882            |        2019 |\n",
      "| 19 |     20 | Germany              | 53,567            |        2019 |\n"
     ]
    }
   ],
   "source": [
    "print(table.to_markdown())"
   ]
  },
  {
   "cell_type": "code",
   "execution_count": 14,
   "id": "6d89354a-3d9f-4052-a546-5bbf2db61441",
   "metadata": {},
   "outputs": [
    {
     "name": "stdout",
     "output_type": "stream",
     "text": [
      "TapasForQuestionAnswering(\n",
      "  (tapas): TapasModel(\n",
      "    (embeddings): TapasEmbeddings(\n",
      "      (word_embeddings): Embedding(30522, 768, padding_idx=0)\n",
      "      (position_embeddings): Embedding(1024, 768)\n",
      "      (token_type_embeddings_0): Embedding(3, 768)\n",
      "      (token_type_embeddings_1): Embedding(256, 768)\n",
      "      (token_type_embeddings_2): Embedding(256, 768)\n",
      "      (token_type_embeddings_3): Embedding(2, 768)\n",
      "      (token_type_embeddings_4): Embedding(256, 768)\n",
      "      (token_type_embeddings_5): Embedding(256, 768)\n",
      "      (token_type_embeddings_6): Embedding(10, 768)\n",
      "      (LayerNorm): LayerNorm((768,), eps=1e-12, elementwise_affine=True)\n",
      "      (dropout): Dropout(p=0.1, inplace=False)\n",
      "    )\n",
      "    (encoder): TapasEncoder(\n",
      "      (layer): ModuleList(\n",
      "        (0-11): 12 x TapasLayer(\n",
      "          (attention): TapasAttention(\n",
      "            (self): TapasSelfAttention(\n",
      "              (query): Linear(in_features=768, out_features=768, bias=True)\n",
      "              (key): Linear(in_features=768, out_features=768, bias=True)\n",
      "              (value): Linear(in_features=768, out_features=768, bias=True)\n",
      "              (dropout): Dropout(p=0.1, inplace=False)\n",
      "            )\n",
      "            (output): TapasSelfOutput(\n",
      "              (dense): Linear(in_features=768, out_features=768, bias=True)\n",
      "              (LayerNorm): LayerNorm((768,), eps=1e-12, elementwise_affine=True)\n",
      "              (dropout): Dropout(p=0.1, inplace=False)\n",
      "            )\n",
      "          )\n",
      "          (intermediate): TapasIntermediate(\n",
      "            (dense): Linear(in_features=768, out_features=3072, bias=True)\n",
      "            (intermediate_act_fn): GELUActivation()\n",
      "          )\n",
      "          (output): TapasOutput(\n",
      "            (dense): Linear(in_features=3072, out_features=768, bias=True)\n",
      "            (LayerNorm): LayerNorm((768,), eps=1e-12, elementwise_affine=True)\n",
      "            (dropout): Dropout(p=0.1, inplace=False)\n",
      "          )\n",
      "        )\n",
      "      )\n",
      "    )\n",
      "    (pooler): TapasPooler(\n",
      "      (dense): Linear(in_features=768, out_features=768, bias=True)\n",
      "      (activation): Tanh()\n",
      "    )\n",
      "  )\n",
      "  (dropout): Dropout(p=0.1, inplace=False)\n",
      "  (aggregation_classifier): Linear(in_features=768, out_features=4, bias=True)\n",
      ")\n",
      "Aggregation:  {0: 'NONE', 1: 'SUM', 2: 'AVERAGE', 3: 'COUNT'}\n"
     ]
    }
   ],
   "source": [
    "from transformers import TapasTokenizer, TapasForQuestionAnswering, TapasConfig\n",
    "model_name = \"google/tapas-base-finetuned-wtq\"\n",
    "model = TapasForQuestionAnswering.from_pretrained(model_name)\n",
    "tokenizer = TapasTokenizer.from_pretrained(model_name)\n",
    "config = TapasConfig.from_pretrained('google/tapas-base-finetuned-wtq')\n",
    "\n",
    "print(model)\n",
    "\n",
    "print(\"Aggregation: \", config.aggregation_labels)"
   ]
  },
  {
   "cell_type": "code",
   "execution_count": 10,
   "id": "ebd321d7-c7d2-4bd0-ab91-f681bfc0a5e1",
   "metadata": {},
   "outputs": [],
   "source": [
    "pipe = pipeline(\"table-question-answering\", model=model, tokenizer=tokenizer) "
   ]
  },
  {
   "cell_type": "code",
   "execution_count": 11,
   "id": "01b27a61-f5f1-49c3-ac56-9ce3e94015ae",
   "metadata": {},
   "outputs": [],
   "source": [
    "def qa(queries, table):    \n",
    "    inputs = tokenizer(table=table, queries=queries, padding=True, truncation=True, return_tensors=\"pt\") \n",
    "    outputs = model(**inputs)\n",
    "    predicted_answer_coordinates, predicted_aggregation_indices = tokenizer.convert_logits_to_predictions(\n",
    "        inputs, outputs.logits.detach(), outputs.logits_aggregation.detach()\n",
    "    )\n",
    "\n",
    "    # let's print out the results:\n",
    "    id2aggregation = config.aggregation_labels\n",
    "    aggregation_predictions_string = [id2aggregation[x] for x in predicted_aggregation_indices]\n",
    "\n",
    "    answers = []\n",
    "    for coordinates in predicted_answer_coordinates:\n",
    "        if len(coordinates) == 1:\n",
    "            # only a single cell:\n",
    "            answers.append(table.iat[coordinates[0]])\n",
    "        else:\n",
    "            # multiple cells \n",
    "            cell_values = []\n",
    "            for coordinate in coordinates:\n",
    "                cell_values.append(table.iat[coordinate])\n",
    "            answers.append(\", \".join(cell_values))\n",
    "\n",
    "    print(\"\")\n",
    "    for query, answer, predicted_agg in zip(queries, answers, aggregation_predictions_string):\n",
    "        print(query)\n",
    "        if predicted_agg == \"NONE\":\n",
    "            print(\"Predicted answer: \" + answer)\n",
    "        else:\n",
    "            print(\"Predicted answer: \" + predicted_agg + \" > \" + answer)\n",
    "        print()"
   ]
  },
  {
   "cell_type": "code",
   "execution_count": 15,
   "id": "f26043b5-73df-4f44-a6dd-3e498a859880",
   "metadata": {},
   "outputs": [
    {
     "name": "stderr",
     "output_type": "stream",
     "text": [
      "/opt/conda/envs/py_3.10/lib/python3.10/site-packages/transformers/models/tapas/tokenization_tapas.py:2762: FutureWarning: Series.__getitem__ treating keys as positions is deprecated. In a future version, integer keys will always be treated as labels (consistent with DataFrame behavior). To access a value by position, use `ser.iloc[pos]`\n",
      "  text = normalize_for_match(row[col_index].text)\n",
      "/opt/conda/envs/py_3.10/lib/python3.10/site-packages/transformers/models/tapas/tokenization_tapas.py:1561: FutureWarning: Series.__getitem__ treating keys as positions is deprecated. In a future version, integer keys will always be treated as labels (consistent with DataFrame behavior). To access a value by position, use `ser.iloc[pos]`\n",
      "  cell = row[col_index]\n"
     ]
    },
    {
     "name": "stdout",
     "output_type": "stream",
     "text": [
      "\n",
      "What is the value of Norway?\n",
      "Predicted answer: AVERAGE > 76,684\n",
      "\n",
      "What is the total value of all countries in 2013?\n",
      "Predicted answer: SUM > 133,021, 71,036\n",
      "\n",
      "What is the average value of all countries in 2019?\n",
      "Predicted answer: AVERAGE > 108,951, 83,399, 76,684, 66,196, 65,112, 64,928, 58,341, 56,066, 55,078, 54,628, 53,882, 53,567\n",
      "\n",
      "How many countries are in the data in 2012?\n",
      "Predicted answer: COUNT > Qatar, Brunei\n",
      "\n",
      "What is the combined value of Sweden and Denmark?\n",
      "Predicted answer: SUM > 54,628, 53,882\n",
      "\n"
     ]
    }
   ],
   "source": [
    "queries = [\"What is the value of Norway?\",\n",
    "           \"What is the total value of all countries in 2013?\",\n",
    "           \"What is the average value of all countries in 2019?\",\n",
    "           \"How many countries are in the data in 2012?\",\n",
    "           \"What is the combined value of Sweden and Denmark?\"\n",
    "          ]\n",
    "qa(queries, table)"
   ]
  }
 ],
 "metadata": {
  "kernelspec": {
   "display_name": "Python 3 (ipykernel)",
   "language": "python",
   "name": "python3"
  },
  "language_info": {
   "codemirror_mode": {
    "name": "ipython",
    "version": 3
   },
   "file_extension": ".py",
   "mimetype": "text/x-python",
   "name": "python",
   "nbconvert_exporter": "python",
   "pygments_lexer": "ipython3",
   "version": "3.10.13"
  }
 },
 "nbformat": 4,
 "nbformat_minor": 5
}
