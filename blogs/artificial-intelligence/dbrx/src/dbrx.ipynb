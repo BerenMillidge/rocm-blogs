{
 "cells": [
  {
   "cell_type": "code",
   "execution_count": 18,
   "id": "174c6524-513e-457d-9e92-8d23c16dfc5c",
   "metadata": {},
   "outputs": [
    {
     "name": "stdout",
     "output_type": "stream",
     "text": [
      "\n",
      "\n",
      "========================= ROCm System Management Interface =========================\n",
      "=================================== Product Info ===================================\n",
      "GPU[0]\t\t: Card series: \t\tInstinct MI210\n",
      "GPU[0]\t\t: Card model: \t\t0x0c34\n",
      "GPU[0]\t\t: Card vendor: \t\tAdvanced Micro Devices, Inc. [AMD/ATI]\n",
      "GPU[0]\t\t: Card SKU: \t\tD67301V\n",
      "GPU[1]\t\t: Card series: \t\tInstinct MI210\n",
      "GPU[1]\t\t: Card model: \t\t0x0c34\n",
      "GPU[1]\t\t: Card vendor: \t\tAdvanced Micro Devices, Inc. [AMD/ATI]\n",
      "GPU[1]\t\t: Card SKU: \t\tD67301V\n",
      "GPU[2]\t\t: Card series: \t\tInstinct MI210\n",
      "GPU[2]\t\t: Card model: \t\t0x0c34\n",
      "GPU[2]\t\t: Card vendor: \t\tAdvanced Micro Devices, Inc. [AMD/ATI]\n",
      "GPU[2]\t\t: Card SKU: \t\tD67301V\n",
      "GPU[3]\t\t: Card series: \t\tInstinct MI210\n",
      "GPU[3]\t\t: Card model: \t\t0x0c34\n",
      "GPU[3]\t\t: Card vendor: \t\tAdvanced Micro Devices, Inc. [AMD/ATI]\n",
      "GPU[3]\t\t: Card SKU: \t\tD67301V\n",
      "GPU[4]\t\t: Card series: \t\tInstinct MI210\n",
      "GPU[4]\t\t: Card model: \t\t0x0c34\n",
      "GPU[4]\t\t: Card vendor: \t\tAdvanced Micro Devices, Inc. [AMD/ATI]\n",
      "GPU[4]\t\t: Card SKU: \t\tD67301V\n",
      "GPU[5]\t\t: Card series: \t\tInstinct MI210\n",
      "GPU[5]\t\t: Card model: \t\t0x0c34\n",
      "GPU[5]\t\t: Card vendor: \t\tAdvanced Micro Devices, Inc. [AMD/ATI]\n",
      "GPU[5]\t\t: Card SKU: \t\tD67301V\n",
      "====================================================================================\n",
      "=============================== End of ROCm SMI Log ================================\n"
     ]
    },
    {
     "name": "stderr",
     "output_type": "stream",
     "text": [
      "huggingface/tokenizers: The current process just got forked, after parallelism has already been used. Disabling parallelism to avoid deadlocks...\n",
      "To disable this warning, you can either:\n",
      "\t- Avoid using `tokenizers` before the fork if possible\n",
      "\t- Explicitly set the environment variable TOKENIZERS_PARALLELISM=(true | false)\n"
     ]
    }
   ],
   "source": [
    "! rocm-smi --showproductname"
   ]
  },
  {
   "cell_type": "code",
   "execution_count": 19,
   "id": "deb957f2-347f-4965-9c29-1406c5aeba9a",
   "metadata": {},
   "outputs": [
    {
     "name": "stderr",
     "output_type": "stream",
     "text": [
      "huggingface/tokenizers: The current process just got forked, after parallelism has already been used. Disabling parallelism to avoid deadlocks...\n",
      "To disable this warning, you can either:\n",
      "\t- Avoid using `tokenizers` before the fork if possible\n",
      "\t- Explicitly set the environment variable TOKENIZERS_PARALLELISM=(true | false)\n"
     ]
    },
    {
     "name": "stdout",
     "output_type": "stream",
     "text": [
      "Package: rocm-libs\n",
      "Version: 5.7.0.50700-63~22.04\n",
      "Priority: optional\n",
      "Section: devel\n",
      "Maintainer: ROCm Libs Support <rocm-libs.support@amd.com>\n",
      "Installed-Size: 13.3 kB\n",
      "Depends: hipblas (= 1.1.0.50700-63~22.04), hipblaslt (= 0.3.0.50700-63~22.04), hipfft (= 1.0.12.50700-63~22.04), hipsolver (= 1.8.1.50700-63~22.04), hipsparse (= 2.3.8.50700-63~22.04), miopen-hip (= 2.20.0.50700-63~22.04), rccl (= 2.17.1.50700-63~22.04), rocalution (= 2.1.11.50700-63~22.04), rocblas (= 3.1.0.50700-63~22.04), rocfft (= 1.0.23.50700-63~22.04), rocrand (= 2.10.17.50700-63~22.04), rocsolver (= 3.23.0.50700-63~22.04), rocsparse (= 2.5.4.50700-63~22.04), rocm-core (= 5.7.0.50700-63~22.04), hipblas-dev (= 1.1.0.50700-63~22.04), hipblaslt-dev (= 0.3.0.50700-63~22.04), hipcub-dev (= 2.13.1.50700-63~22.04), hipfft-dev (= 1.0.12.50700-63~22.04), hipsolver-dev (= 1.8.1.50700-63~22.04), hipsparse-dev (= 2.3.8.50700-63~22.04), miopen-hip-dev (= 2.20.0.50700-63~22.04), rccl-dev (= 2.17.1.50700-63~22.04), rocalution-dev (= 2.1.11.50700-63~22.04), rocblas-dev (= 3.1.0.50700-63~22.04), rocfft-dev (= 1.0.23.50700-63~22.04), rocprim-dev (= 2.13.1.50700-63~22.04), rocrand-dev (= 2.10.17.50700-63~22.04), rocsolver-dev (= 3.23.0.50700-63~22.04), rocsparse-dev (= 2.5.4.50700-63~22.04), rocthrust-dev (= 2.18.0.50700-63~22.04), rocwmma-dev (= 1.2.0.50700-63~22.04)\n",
      "Homepage: https://github.com/RadeonOpenCompute/ROCm\n",
      "Download-Size: 1012 B\n",
      "APT-Manual-Installed: yes\n",
      "APT-Sources: http://repo.radeon.com/rocm/apt/5.7 jammy/main amd64 Packages\n",
      "Description: Radeon Open Compute (ROCm) Runtime software stack\n",
      "\n"
     ]
    }
   ],
   "source": [
    "!apt show rocm-libs -a"
   ]
  },
  {
   "cell_type": "code",
   "execution_count": 20,
   "id": "341316d7-ce8a-4037-bc5c-bdcc6f99c1b4",
   "metadata": {},
   "outputs": [
    {
     "name": "stdout",
     "output_type": "stream",
     "text": [
      "number of GPUs: 6\n",
      "['AMD Instinct MI210', 'AMD Instinct MI210', 'AMD Instinct MI210', 'AMD Instinct MI210', 'AMD Instinct MI210', 'AMD Instinct MI210']\n"
     ]
    }
   ],
   "source": [
    "import torch\n",
    "print(f\"number of GPUs: {torch.cuda.device_count()}\")\n",
    "print([torch.cuda.get_device_name(i) for i in range(torch.cuda.device_count())])"
   ]
  },
  {
   "cell_type": "code",
   "execution_count": null,
   "id": "155eb189-199c-4421-80c8-355ba6ae1e7e",
   "metadata": {},
   "outputs": [],
   "source": [
    "! pip install -q \"transformers>=4.39.2\" \"tiktoken>=0.6.0\"\n",
    "! pip hf_transfer\n",
    "! pip install accelerate\n",
    "! export HF_HUB_ENABLE_HF_TRANSFER=1"
   ]
  },
  {
   "cell_type": "code",
   "execution_count": null,
   "id": "aff15b74-5f14-461e-a82a-a120bcded4a8",
   "metadata": {},
   "outputs": [],
   "source": [
    "! pip install torch==2.2.1 torchvision==0.17.1 torchaudio==2.2.1 --index-url https://download.pytorch.org/whl/rocm5.7"
   ]
  },
  {
   "cell_type": "code",
   "execution_count": 3,
   "id": "3b297e5c-a310-4393-9729-6132fa7ca157",
   "metadata": {},
   "outputs": [],
   "source": [
    "token = \"your HuggingFace user access token here\""
   ]
  },
  {
   "cell_type": "code",
   "execution_count": 5,
   "id": "3f2a8a3f-9051-49f9-bcf8-51f09fdc9829",
   "metadata": {},
   "outputs": [
    {
     "name": "stderr",
     "output_type": "stream",
     "text": [
      "Special tokens have been added in the vocabulary, make sure the associated word embeddings are fine-tuned or trained.\n",
      "A new version of the following files was downloaded from https://huggingface.co/databricks/dbrx-instruct:\n",
      "- configuration_dbrx.py\n",
      ". Make sure to double-check they do not contain any added malicious code. To avoid downloading new versions of the code file, you can pin a revision.\n",
      "A new version of the following files was downloaded from https://huggingface.co/databricks/dbrx-instruct:\n",
      "- modeling_dbrx.py\n",
      ". Make sure to double-check they do not contain any added malicious code. To avoid downloading new versions of the code file, you can pin a revision.\n",
      "Downloading shards: 100%|██████████| 61/61 [41:31<00:00, 40.85s/it]\n",
      "Loading checkpoint shards: 100%|██████████| 61/61 [01:22<00:00,  1.35s/it]"
     ]
    },
    {
     "name": "stdout",
     "output_type": "stream",
     "text": [
      "DbrxForCausalLM(\n",
      "  (transformer): DbrxModel(\n",
      "    (wte): Embedding(100352, 6144)\n",
      "    (blocks): ModuleList(\n",
      "      (0-39): 40 x DbrxBlock(\n",
      "        (norm_attn_norm): DbrxNormAttentionNorm(\n",
      "          (norm_1): LayerNorm((6144,), eps=1e-05, elementwise_affine=True)\n",
      "          (attn): DbrxAttention(\n",
      "            (Wqkv): Linear(in_features=6144, out_features=8192, bias=False)\n",
      "            (out_proj): Linear(in_features=6144, out_features=6144, bias=False)\n",
      "            (rotary_emb): DbrxRotaryEmbedding()\n",
      "          )\n",
      "          (norm_2): LayerNorm((6144,), eps=1e-05, elementwise_affine=True)\n",
      "        )\n",
      "        (ffn): DbrxFFN(\n",
      "          (router): DbrxRouter(\n",
      "            (layer): Linear(in_features=6144, out_features=16, bias=False)\n",
      "          )\n",
      "          (experts): DbrxExperts(\n",
      "            (mlp): DbrxExpertGLU()\n",
      "          )\n",
      "        )\n",
      "      )\n",
      "    )\n",
      "    (norm_f): LayerNorm((6144,), eps=1e-05, elementwise_affine=True)\n",
      "  )\n",
      "  (lm_head): Linear(in_features=6144, out_features=100352, bias=False)\n",
      ")\n"
     ]
    },
    {
     "name": "stderr",
     "output_type": "stream",
     "text": [
      "\n"
     ]
    }
   ],
   "source": [
    "from transformers import AutoTokenizer, AutoModelForCausalLM\n",
    "import torch\n",
    "\n",
    "tokenizer = AutoTokenizer.from_pretrained(\"databricks/dbrx-instruct\", trust_remote_code=True, token=token)\n",
    "model = AutoModelForCausalLM.from_pretrained(\"databricks/dbrx-instruct\", device_map=\"auto\", torch_dtype=torch.bfloat16, trust_remote_code=True, token=token)\n",
    "print(model)"
   ]
  },
  {
   "cell_type": "code",
   "execution_count": 27,
   "id": "4102c5bc-dddc-4f77-a57f-bcc5e9fc0b3b",
   "metadata": {},
   "outputs": [],
   "source": [
    "def run_inference(input_text):\n",
    "    messages = [{\"role\": \"user\", \"content\": input_text}]\n",
    "    input_ids = tokenizer.apply_chat_template(messages, return_dict=True, tokenize=True, add_generation_prompt=True, return_tensors=\"pt\").to(\"cuda\")\n",
    "    \n",
    "    outputs = model.generate(**input_ids, max_new_tokens=1000)\n",
    "    text = tokenizer.decode(outputs[0])\n",
    "    \n",
    "    # only include the assistant's response\n",
    "    index = text.index('<|im_start|>assistant')\n",
    "    return text[index:]"
   ]
  },
  {
   "cell_type": "code",
   "execution_count": 30,
   "id": "779bb2a2-e777-4690-a7de-fbf5855ae902",
   "metadata": {},
   "outputs": [
    {
     "name": "stderr",
     "output_type": "stream",
     "text": [
      "Setting `pad_token_id` to `eos_token_id`:100257 for open-end generation.\n"
     ]
    },
    {
     "name": "stdout",
     "output_type": "stream",
     "text": [
      "<|im_start|>assistant\n",
      "Sure, here is a simple Python function that checks if a number is a perfect number:\n",
      "\n",
      "```python\n",
      "def is_perfect(n):\n",
      "    sum = 1\n",
      "    i = 2\n",
      "    while i * i <= n:\n",
      "        if n % i:\n",
      "            i += 1\n",
      "        else:\n",
      "            if i * (n // i) == n:\n",
      "                sum += i + n//i\n",
      "            i += 1\n",
      "    return sum - 1 == n and n!= 1\n",
      "```\n",
      "\n",
      "This function works by iterating over all numbers from 2 to the square root of the input number. If the input number is divisible by a certain number, it adds both the divisor and the quotient to the sum. If the sum of the proper divisors equals the input number, then the input number is a perfect number.<|im_end|>\n"
     ]
    }
   ],
   "source": [
    "input_text = '''\n",
    "In number theory, a perfect number is a positive integer that is equal to the sum of its positive proper divisors, that is, divisors excluding the number itself. \n",
    "For instance, 6 has proper divisors 1, 2 and 3, and 1 + 2 + 3 = 6, so 6 is a perfect number.\n",
    "In Python, write code to check whether a number is a perfect number.\n",
    "'''\n",
    "print(run_inference(input_text))"
   ]
  },
  {
   "cell_type": "code",
   "execution_count": 45,
   "id": "210b9060-d968-4827-be74-78c97940e753",
   "metadata": {},
   "outputs": [
    {
     "name": "stderr",
     "output_type": "stream",
     "text": [
      "Setting `pad_token_id` to `eos_token_id`:100257 for open-end generation.\n"
     ]
    },
    {
     "name": "stdout",
     "output_type": "stream",
     "text": [
      "<|im_start|>assistant\n",
      "Sure, here is a simple Python function that calculates the factorial of a given number using recursion:\n",
      "\n",
      "```python\n",
      "def factorial(n):\n",
      "    if n == 0:\n",
      "        return 1\n",
      "    else:\n",
      "        return n * factorial(n-1)\n",
      "```\n",
      "\n",
      "You can use this function to calculate the factorial of any non-negative integer. For example, `factorial(5)` would return `120`.<|im_end|>\n"
     ]
    }
   ],
   "source": [
    "input_text = '''\n",
    "In Python, write Python code to calculate the factorial of a given number using recursion.\n",
    "'''\n",
    "print(run_inference(input_text))"
   ]
  },
  {
   "cell_type": "code",
   "execution_count": 49,
   "id": "36ba595d-ef0b-4f19-b496-dc2545319485",
   "metadata": {},
   "outputs": [
    {
     "name": "stderr",
     "output_type": "stream",
     "text": [
      "Setting `pad_token_id` to `eos_token_id`:100257 for open-end generation.\n"
     ]
    },
    {
     "name": "stdout",
     "output_type": "stream",
     "text": [
      "<|im_start|>assistant\n",
      "In his article \"The Unreasonable Effectiveness of Mathematics in the Natural Sciences,\" physicist Eugene Wigner explores the mysterious alignment between the abstract world of mathematics and the concrete world of physics. He argues that the effectiveness of mathematics in describing and predicting natural phenomena is not only surprising but also \"unreasonable\" given that the two domains are fundamentally distinct.\n",
      "\n",
      "Wigner provides several examples to illustrate his point. One example is the use of complex numbers in quantum mechanics. Complex numbers, which involve imaginary components, may seem abstract and unrelated to the physical world. However, they are essential for describing the behavior of subatomic particles, such as electrons and photons.\n",
      "\n",
      "Another example is the use of group theory in quantum mechanics and particle physics. Group theory is a branch of mathematics that studies symmetries and transformations. Wigner shows how group theory can be used to classify and predict the properties of subatomic particles, such as their spins and charges.\n",
      "\n",
      "Wigner also discusses the use of differential equations in physics. Differential equations are mathematical equations that describe how functions change over time or space. They are used extensively in physics to describe phenomena such as waves, heat transfer, and gravitational attraction.\n",
      "\n",
      "Overall, Wigner's article highlights the remarkable effectiveness of mathematics in describing and predicting natural phenomena, even when the mathematics involved seems abstract and unrelated to the physical world. He suggests that this effectiveness is not fully understood and may point to a deeper underlying unity between the worlds of mathematics and physics.<|im_end|>\n"
     ]
    }
   ],
   "source": [
    "input_text = '''\n",
    "Summarize the famous article \"The Unreasonable Effectiveness of Mathematics in the Natural Sciences\" by Eugene Wigner and provide some examples from the article\n",
    "'''\n",
    "print(run_inference(input_text))"
   ]
  },
  {
   "cell_type": "code",
   "execution_count": 50,
   "id": "b0c3eb71-3ad3-451f-ba85-889acfc0cae6",
   "metadata": {},
   "outputs": [
    {
     "name": "stderr",
     "output_type": "stream",
     "text": [
      "Setting `pad_token_id` to `eos_token_id`:100257 for open-end generation.\n"
     ]
    },
    {
     "name": "stdout",
     "output_type": "stream",
     "text": [
      "<|im_start|>assistant\n",
      "The phrase you provided is a joke that plays on the double meaning of the word \"guts.\" In one sense, \"guts\" can refer to courage or bravery. In another sense, \"guts\" refers to the internal organs of a living being. Since skeletons are deceased and do not have internal organs, the punchline of the joke is that they lack the \"guts\" in the physical sense, and therefore cannot fight each other. The joke also implies that skeletons might lack the \"guts\" in the metaphorical sense, meaning they lack the courage to fight. However, since skeletons are not living beings, they cannot exhibit courage or engage in combat.<|im_end|>\n"
     ]
    }
   ],
   "source": [
    "input_text = '''\n",
    "Explain \"Why don't skeletons fight each other? They don't have the guts.\"\n",
    "'''\n",
    "print(run_inference(input_text))"
   ]
  },
  {
   "cell_type": "code",
   "execution_count": 51,
   "id": "d2d1ef59-1df0-4f4c-8be6-d3de03271844",
   "metadata": {},
   "outputs": [
    {
     "name": "stderr",
     "output_type": "stream",
     "text": [
      "Setting `pad_token_id` to `eos_token_id`:100257 for open-end generation.\n"
     ]
    },
    {
     "name": "stdout",
     "output_type": "stream",
     "text": [
      "<|im_start|>assistant\n",
      "In this twisted version of \"Snow White and the Seven Dwarfs,\" Snow White is a mischievous prankster who takes advantage of the seven dwarfs' kindness. Instead of being grateful for their hospitality, she uses her beauty and charm to manipulate them into doing her bidding. The dwarfs, who are not the typical hardworking miners, are actually lazy and spend their days watching TV and playing video games. Snow White convinces them to help her pull off elaborate pranks on the townspeople, causing chaos and confusion.\n",
      "\n",
      "Meanwhile, the Evil Queen, who is not Snow White's stepmother in this version, is a misunderstood witch who is trying to protect the kingdom from Snow White's mischief. She creates the poisoned apple to put Snow White to sleep, hoping to put an end to her pranks and restore peace to the kingdom. However, Snow White's charm wins over the Queen's henchman, who accidentally eats the apple and falls into a deep sleep.\n",
      "\n",
      "In the end, Snow White realizes the error of her ways and apologizes to the dwarfs and the townspeople. She uses her charm for good, helping the dwarfs become more productive and bringing joy to the kingdom. The Evil Queen, seeing Snow White's change of heart, decides to lift the curse and the henchman wakes up. The kingdom lives happily ever after, with Snow White and the Evil Queen working together to maintain peace and order.<|im_end|>\n"
     ]
    }
   ],
   "source": [
    "input_text = '''\n",
    "Write a short twisted alternate version of \"Snow White and the Seven Dwarfs\"\n",
    "'''\n",
    "print(run_inference(input_text))"
   ]
  }
 ],
 "metadata": {
  "kernelspec": {
   "display_name": "Python 3 (ipykernel)",
   "language": "python",
   "name": "python3"
  },
  "language_info": {
   "codemirror_mode": {
    "name": "ipython",
    "version": 3
   },
   "file_extension": ".py",
   "mimetype": "text/x-python",
   "name": "python",
   "nbconvert_exporter": "python",
   "pygments_lexer": "ipython3",
   "version": "3.10.13"
  }
 },
 "nbformat": 4,
 "nbformat_minor": 5
}
