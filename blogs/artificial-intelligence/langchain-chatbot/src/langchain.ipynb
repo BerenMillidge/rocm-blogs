{
 "cells": [
  {
   "cell_type": "code",
   "execution_count": null,
   "metadata": {},
   "outputs": [],
   "source": [
    "# install required libraries \n",
    "! pip install langchain langchain-community faiss-cpu transformers sentence-transformers PyPDF2 "
   ]
  },
  {
   "cell_type": "code",
   "execution_count": null,
   "metadata": {},
   "outputs": [],
   "source": [
    "import os \n",
    "from langchain import HuggingFaceHub, LLMChain\n",
    "from langchain.prompts import PromptTemplate\n",
    "\n",
    "os.environ[\"HUGGINGFACEHUB_API_TOKEN\"] = \"your Huggingface API Token here\"\n",
    "\n",
    "llm = HuggingFaceHub(repo_id=\"google/flan-t5-large\",model_kwargs={'temperature':0.5,\n",
    "                                                               'max_length': 512})"
   ]
  },
  {
   "cell_type": "code",
   "execution_count": null,
   "metadata": {},
   "outputs": [],
   "source": [
    "template = \"\"\"Question: {question}\n",
    "Answer: Let's think step by step.\"\"\"\n",
    "\n",
    "prompt = PromptTemplate(template=template, input_variables=[\"question\"])\n",
    "llm_chain = LLMChain(prompt=prompt, llm=llm)"
   ]
  },
  {
   "cell_type": "code",
   "execution_count": null,
   "metadata": {},
   "outputs": [],
   "source": [
    "question =  \"What is the capital of Ecuador? \"\n",
    "llm_chain.run(question)"
   ]
  },
  {
   "cell_type": "code",
   "execution_count": null,
   "metadata": {},
   "outputs": [],
   "source": [
    "question =  \"what are some key advantages of LoRA for LLM? \"\n",
    "llm_chain.run(question)"
   ]
  },
  {
   "cell_type": "code",
   "execution_count": null,
   "metadata": {},
   "outputs": [],
   "source": [
    "from langchain.vectorstores import FAISS\n",
    "from langchain.text_splitter import CharacterTextSplitter\n",
    "from langchain.embeddings import HuggingFaceEmbeddings\n",
    "\n",
    "def process_text(text):\n",
    "    # Split the text into chunks using Langchain's CharacterTextSplitter\n",
    "    text_splitter = CharacterTextSplitter(\n",
    "        separator=\"\\n\", chunk_size=256, chunk_overlap=64, length_function=len\n",
    "    )\n",
    "    chunks = text_splitter.split_text(text)\n",
    "\n",
    "    # Convert the chunks of text into embeddings to form a knowledge base\n",
    "    embeddings = HuggingFaceEmbeddings()\n",
    "    knowledgeBase = FAISS.from_texts(chunks, embeddings)\n",
    "\n",
    "    return knowledgeBase"
   ]
  },
  {
   "cell_type": "code",
   "execution_count": null,
   "metadata": {},
   "outputs": [],
   "source": [
    "import PyPDF2\n",
    "import requests\n",
    "from io import BytesIO\n",
    "\n",
    "pdf_url = \"https://arxiv.org/pdf/2106.09685.pdf\" \n",
    "response = requests.get(pdf_url)\n",
    "pdf_file = BytesIO(response.content)\n",
    "pdf_reader = PyPDF2.PdfReader(pdf_file)\n",
    "\n",
    "def get_vectorstore():\n",
    "    # build vectorstore\n",
    "    text = \"\"\n",
    "    # Text variable will store the pdf text\n",
    "    for page in pdf_reader.pages:\n",
    "        text += page.extract_text()\n",
    "\n",
    "    # Create the knowledge base object\n",
    "    db = process_text(text)\n",
    "    return db\n",
    "\n",
    "db = get_vectorstore()"
   ]
  },
  {
   "cell_type": "code",
   "execution_count": null,
   "metadata": {},
   "outputs": [],
   "source": [
    "from langchain.chains.question_answering import load_qa_chain\n",
    "# loading Q&A chain\n",
    "chain = load_qa_chain(llm, chain_type=\"stuff\")\n",
    "\n",
    "query = \"what are some key advantages of LoRA for LLM?\"\n",
    "# search database for relevant information\n",
    "docs = db.similarity_search(query=query)\n",
    "\n",
    "# Run our chain\n",
    "chain.run(input_documents=docs, question=query)"
   ]
  }
 ],
 "metadata": {
  "kernelspec": {
   "display_name": "Python 3 (ipykernel)",
   "language": "python",
   "name": "python3"
  },
  "language_info": {
   "codemirror_mode": {
    "name": "ipython",
    "version": 3
   },
   "file_extension": ".py",
   "mimetype": "text/x-python",
   "name": "python",
   "nbconvert_exporter": "python",
   "pygments_lexer": "ipython3",
   "version": "3.12.2"
  }
 },
 "nbformat": 4,
 "nbformat_minor": 4
}
