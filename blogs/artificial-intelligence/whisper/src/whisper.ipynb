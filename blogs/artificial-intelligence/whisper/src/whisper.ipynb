{
 "cells": [
  {
   "cell_type": "code",
   "execution_count": null,
   "id": "24e8b6e6-3582-421c-9b62-7f48ea6f2bc8",
   "metadata": {},
   "outputs": [],
   "source": [
    "!pip install datasets ipywidgets transformers numba openai-whisper -q"
   ]
  },
  {
   "cell_type": "code",
   "execution_count": null,
   "id": "267456d3",
   "metadata": {},
   "outputs": [],
   "source": [
    "!wget https://www2.cs.uic.edu/~i101/SoundFiles/preamble.wav"
   ]
  },
  {
   "cell_type": "code",
   "execution_count": null,
   "id": "f954421a-f17c-46b5-a184-3cead9394c4a",
   "metadata": {},
   "outputs": [],
   "source": [
    "import torch\n",
    "from transformers import pipeline\n",
    "from datasets import load_dataset"
   ]
  },
  {
   "cell_type": "code",
   "execution_count": null,
   "id": "9264fc3d-d1e7-499f-ac87-842b5fa66e9d",
   "metadata": {},
   "outputs": [],
   "source": [
    "device = \"cuda:0\" if torch.cuda.is_available() else \"cpu\"\n",
    "\n",
    "pipe = pipeline(\n",
    "  \"automatic-speech-recognition\",\n",
    "  model=\"openai/whisper-medium.en\",\n",
    "  chunk_length_s=30,\n",
    "  device=device,\n",
    ")"
   ]
  },
  {
   "cell_type": "code",
   "execution_count": null,
   "id": "89c5d89c-6ae0-4ccb-8476-32be52cb75ae",
   "metadata": {},
   "outputs": [],
   "source": [
    "transcription = pipe(\"preamble.wav\")['text']\n",
    "print(transcription)"
   ]
  },
  {
   "cell_type": "code",
   "execution_count": null,
   "id": "5ea2d942-8e6c-413b-a2a6-16e0a576484e",
   "metadata": {},
   "outputs": [],
   "source": [
    "import whisper\n",
    "\n",
    "model = whisper.load_model(\"medium.en\")\n",
    "transcription = model.transcribe(\"preamble.wav\")['text']\n",
    "print(transcription)"
   ]
  }
 ],
 "metadata": {
  "kernelspec": {
   "display_name": "Python 3 (ipykernel)",
   "language": "python",
   "name": "python3"
  },
  "language_info": {
   "codemirror_mode": {
    "name": "ipython",
    "version": 3
   },
   "file_extension": ".py",
   "mimetype": "text/x-python",
   "name": "python",
   "nbconvert_exporter": "python",
   "pygments_lexer": "ipython3",
   "version": "3.10.13"
  }
 },
 "nbformat": 4,
 "nbformat_minor": 5
}
